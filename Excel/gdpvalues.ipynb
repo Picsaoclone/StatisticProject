{
 "cells": [
  {
   "cell_type": "code",
   "execution_count": 8,
   "metadata": {},
   "outputs": [],
   "source": [
    "import numpy as np\n",
    "import statistics as st\n",
    "import pandas as pd "
   ]
  },
  {
   "cell_type": "code",
   "execution_count": 5,
   "metadata": {},
   "outputs": [
    {
     "name": "stdout",
     "output_type": "stream",
     "text": [
      "Data GDP:\n",
      "       date           GDP  GDP (VND Billion)\n",
      "0  1/1/2023  4.297170e+11       1.009835e+07\n",
      "1  1/1/2022  4.103240e+11       9.642615e+06\n",
      "2  1/1/2021  3.664748e+11       8.612157e+06\n",
      "3  1/1/2020  3.466157e+11       8.145470e+06\n",
      "4  1/1/2019  3.343653e+11       7.857584e+06\n"
     ]
    }
   ],
   "source": [
    "# Đọc từng file CSV với mã hóa 'ISO-8859-1' hoặc 'cp1252'\n",
    "df_GDP = pd.read_csv('gdp_vietnam.csv',encoding='ISO-8859-1')\n",
    "\n",
    "# Kiểm tra dữ liệu của từng DataFrame (nếu cần)\n",
    "print(\"Data GDP:\")\n",
    "print(df_GDP.head())"
   ]
  },
  {
   "cell_type": "code",
   "execution_count": 7,
   "metadata": {},
   "outputs": [
    {
     "name": "stdout",
     "output_type": "stream",
     "text": [
      "GDP mean: 188680201620.30875\n",
      "GDP standard deviation: 131065814170.73839\n",
      "GDP median: 184092855156.59\n"
     ]
    }
   ],
   "source": [
    "mean_GDP = np.mean(df_GDP['GDP'])\n",
    "print(f\"GDP mean: {mean_GDP}\")\n",
    "print(f\"GDP standard deviation: {st.stdev(df_GDP['GDP'])}\")\n",
    "print(f\"GDP median: {st.median(df_GDP['GDP'])}\")"
   ]
  }
 ],
 "metadata": {
  "kernelspec": {
   "display_name": "Python 3",
   "language": "python",
   "name": "python3"
  },
  "language_info": {
   "codemirror_mode": {
    "name": "ipython",
    "version": 3
   },
   "file_extension": ".py",
   "mimetype": "text/x-python",
   "name": "python",
   "nbconvert_exporter": "python",
   "pygments_lexer": "ipython3",
   "version": "3.12.4"
  }
 },
 "nbformat": 4,
 "nbformat_minor": 2
}
