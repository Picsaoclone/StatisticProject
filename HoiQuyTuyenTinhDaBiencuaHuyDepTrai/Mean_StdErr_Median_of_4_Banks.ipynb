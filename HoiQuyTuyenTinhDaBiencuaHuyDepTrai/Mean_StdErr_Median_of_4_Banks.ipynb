{
 "cells": [
  {
   "cell_type": "code",
   "execution_count": 1,
   "metadata": {},
   "outputs": [],
   "source": [
    "import numpy as np\n",
    "import statistics as st\n",
    "import pandas as pd "
   ]
  },
  {
   "cell_type": "code",
   "execution_count": 12,
   "metadata": {},
   "outputs": [],
   "source": [
    "# Đọc từng file CSV với mã hóa 'ISO-8859-1' hoặc 'cp1252'\n",
    "df_MBB= pd.read_csv('financial_data_MBB_filtered.csv',encoding='ISO-8859-1')"
   ]
  },
  {
   "cell_type": "code",
   "execution_count": 13,
   "metadata": {},
   "outputs": [
    {
     "name": "stdout",
     "output_type": "stream",
     "text": [
      "MBB_roe mean: 0.18297727272727274\n",
      "MBB_roe standard deviation: 0.0460391585785575\n",
      "MBB_roe median: 0.16949999999999998\n",
      "MBB_roa mean: 0.0175\n",
      "MBB_roa standard deviation: 0.005218482359799148\n",
      "MBB_roa median: 0.0155\n",
      "MBB_interestMargin mean: 0.045000000000000005\n",
      "MBB_interestMargin standard deviation: 0.007077642492794755\n",
      "MBB_interestMargin median: 0.0455\n",
      "MBB_badDebtPercentage mean: 0.01625\n",
      "MBB_badDebtPercentage standard deviation: 0.006050658238264583\n",
      "MBB_badDebtPercentage median: 0.014\n",
      "MBB_equityOnTotalAsset mean: 0.09890909090909092\n",
      "MBB_equityOnTotalAsset standard deviation: 0.009295705889901171\n",
      "MBB_equityOnTotalAsset median: 0.1015\n"
     ]
    }
   ],
   "source": [
    "MBB_mean_roe = np.mean(df_MBB['roe'])\n",
    "print(f\"MBB_roe mean: {MBB_mean_roe}\")\n",
    "print(f\"MBB_roe standard deviation: {st.stdev(df_MBB['roe'])}\")\n",
    "print(f\"MBB_roe median: {st.median(df_MBB['roe'])}\")\n",
    "\n",
    "MBB_mean_roa = np.mean(df_MBB['roa'])\n",
    "print(f\"MBB_roa mean: {MBB_mean_roa}\")\n",
    "print(f\"MBB_roa standard deviation: {st.stdev(df_MBB['roa'])}\")\n",
    "print(f\"MBB_roa median: {st.median(df_MBB['roa'])}\")\n",
    "\n",
    "MBB_mean_interestMargin = np.mean(df_MBB['interestMargin'])\n",
    "print(f\"MBB_interestMargin mean: {MBB_mean_interestMargin}\")\n",
    "print(f\"MBB_interestMargin standard deviation: {st.stdev(df_MBB['interestMargin'])}\")\n",
    "print(f\"MBB_interestMargin median: {st.median(df_MBB['interestMargin'])}\")\n",
    "\n",
    "MBB_mean_badDebtPercentage = np.mean(df_MBB['badDebtPercentage'])\n",
    "print(f\"MBB_badDebtPercentage mean: {MBB_mean_badDebtPercentage}\")\n",
    "print(f\"MBB_badDebtPercentage standard deviation: {st.stdev(df_MBB['badDebtPercentage'])}\")\n",
    "print(f\"MBB_badDebtPercentage median: {st.median(df_MBB['badDebtPercentage'])}\")\n",
    "\n",
    "MBB_mean_equityOnTotalAsset = np.mean(df_MBB['equityOnTotalAsset'])\n",
    "print(f\"MBB_equityOnTotalAsset mean: {MBB_mean_equityOnTotalAsset}\")\n",
    "print(f\"MBB_equityOnTotalAsset standard deviation: {st.stdev(df_MBB['equityOnTotalAsset'])}\")\n",
    "print(f\"MBB_equityOnTotalAsset median: {st.median(df_MBB['equityOnTotalAsset'])}\")\n",
    "\n",
    "\n"
   ]
  },
  {
   "cell_type": "code",
   "execution_count": null,
   "metadata": {},
   "outputs": [],
   "source": [
    "# Đọc từng file CSV với mã hóa 'ISO-8859-1' hoặc 'cp1252'\n",
    "df_VCB = pd.read_csv('financial_data_VCB_filtered.csv',encoding='ISO-8859-1')"
   ]
  },
  {
   "cell_type": "code",
   "execution_count": 6,
   "metadata": {},
   "outputs": [
    {
     "name": "stdout",
     "output_type": "stream",
     "text": [
      "VCB_roe mean: 0.1785909090909091\n",
      "VCB_roe standard deviation: 0.05576959169022012\n",
      "VCB_roe median: 0.1985\n",
      "VCB_roa mean: 0.013250000000000001\n",
      "VCB_roa standard deviation: 0.0036734433501160227\n",
      "VCB_roa median: 0.0125\n",
      "VCB_interestMargin mean: 0.028818181818181812\n",
      "VCB_interestMargin standard deviation: 0.003322038651699084\n",
      "VCB_interestMargin median: 0.028\n",
      "VCB_badDebtPercentage mean: 0.014863636363636367\n",
      "VCB_badDebtPercentage standard deviation: 0.007822421290204053\n",
      "VCB_badDebtPercentage median: 0.012\n",
      "VCB_equityOnTotalAsset mean: 0.07563636363636363\n",
      "VCB_equityOnTotalAsset standard deviation: 0.01179887836429341\n",
      "VCB_equityOnTotalAsset median: 0.0765\n"
     ]
    }
   ],
   "source": [
    "VCB_mean_roe = np.mean(df_VCB['roe'])\n",
    "print(f\"VCB_roe mean: {VCB_mean_roe}\")\n",
    "print(f\"VCB_roe standard deviation: {st.stdev(df_VCB['roe'])}\")\n",
    "print(f\"VCB_roe median: {st.median(df_VCB['roe'])}\")\n",
    "\n",
    "VCB_mean_roa = np.mean(df_VCB['roa'])\n",
    "print(f\"VCB_roa mean: {VCB_mean_roa}\")\n",
    "print(f\"VCB_roa standard deviation: {st.stdev(df_VCB['roa'])}\")\n",
    "print(f\"VCB_roa median: {st.median(df_VCB['roa'])}\")\n",
    "\n",
    "VCB_mean_interestMargin = np.mean(df_VCB['interestMargin'])\n",
    "print(f\"VCB_interestMargin mean: {VCB_mean_interestMargin}\")\n",
    "print(f\"VCB_interestMargin standard deviation: {st.stdev(df_VCB['interestMargin'])}\")\n",
    "print(f\"VCB_interestMargin median: {st.median(df_VCB['interestMargin'])}\")\n",
    "\n",
    "VCB_mean_badDebtPercentage = np.mean(df_VCB['badDebtPercentage'])\n",
    "print(f\"VCB_badDebtPercentage mean: {VCB_mean_badDebtPercentage}\")\n",
    "print(f\"VCB_badDebtPercentage standard deviation: {st.stdev(df_VCB['badDebtPercentage'])}\")\n",
    "print(f\"VCB_badDebtPercentage median: {st.median(df_VCB['badDebtPercentage'])}\")\n",
    "\n",
    "VCB_mean_equityOnTotalAsset = np.mean(df_VCB['equityOnTotalAsset'])\n",
    "print(f\"VCB_equityOnTotalAsset mean: {VCB_mean_equityOnTotalAsset}\")\n",
    "print(f\"VCB_equityOnTotalAsset standard deviation: {st.stdev(df_VCB['equityOnTotalAsset'])}\")\n",
    "print(f\"VCB_equityOnTotalAsset median: {st.median(df_VCB['equityOnTotalAsset'])}\")\n",
    "\n",
    "\n"
   ]
  },
  {
   "cell_type": "code",
   "execution_count": 15,
   "metadata": {},
   "outputs": [],
   "source": [
    "# Đọc từng file CSV với mã hóa 'ISO-8859-1' hoặc 'cp1252'\n",
    "df_BID = pd.read_csv('financial_data_BID_filtered.csv',encoding='ISO-8859-1')"
   ]
  },
  {
   "cell_type": "code",
   "execution_count": 8,
   "metadata": {},
   "outputs": [
    {
     "name": "stdout",
     "output_type": "stream",
     "text": [
      "BID_roe mean: 0.14938636363636365\n",
      "BID_roe standard deviation: 0.025269906644429494\n",
      "BID_roe median: 0.1465\n",
      "BID_roa mean: 0.007227272727272729\n",
      "BID_roa standard deviation: 0.0013786349224763814\n",
      "BID_roa median: 0.007\n",
      "BID_interestMargin mean: 0.02788636363636363\n",
      "BID_interestMargin standard deviation: 0.001573263665876723\n",
      "BID_interestMargin median: 0.028\n",
      "BID_badDebtPercentage mean: 0.018272727272727274\n",
      "BID_badDebtPercentage standard deviation: 0.004233661543324519\n",
      "BID_badDebtPercentage median: 0.018\n",
      "BID_equityOnTotalAsset mean: 0.0496590909090909\n",
      "BID_equityOnTotalAsset standard deviation: 0.0054471805457979895\n",
      "BID_equityOnTotalAsset median: 0.0505\n"
     ]
    }
   ],
   "source": [
    "BID_mean_roe = np.mean(df_BID['roe'])\n",
    "print(f\"BID_roe mean: {BID_mean_roe}\")\n",
    "print(f\"BID_roe standard deviation: {st.stdev(df_BID['roe'])}\")\n",
    "print(f\"BID_roe median: {st.median(df_BID['roe'])}\")\n",
    "\n",
    "BID_mean_roa = np.mean(df_BID['roa'])\n",
    "print(f\"BID_roa mean: {BID_mean_roa}\")\n",
    "print(f\"BID_roa standard deviation: {st.stdev(df_BID['roa'])}\")\n",
    "print(f\"BID_roa median: {st.median(df_BID['roa'])}\")\n",
    "\n",
    "BID_mean_interestMargin = np.mean(df_BID['interestMargin'])\n",
    "print(f\"BID_interestMargin mean: {BID_mean_interestMargin}\")\n",
    "print(f\"BID_interestMargin standard deviation: {st.stdev(df_BID['interestMargin'])}\")\n",
    "print(f\"BID_interestMargin median: {st.median(df_BID['interestMargin'])}\")\n",
    "\n",
    "BID_mean_badDebtPercentage = np.mean(df_BID['badDebtPercentage'])\n",
    "print(f\"BID_badDebtPercentage mean: {BID_mean_badDebtPercentage}\")\n",
    "print(f\"BID_badDebtPercentage standard deviation: {st.stdev(df_BID['badDebtPercentage'])}\")\n",
    "print(f\"BID_badDebtPercentage median: {st.median(df_BID['badDebtPercentage'])}\")\n",
    "\n",
    "BID_mean_equityOnTotalAsset = np.mean(df_BID['equityOnTotalAsset'])\n",
    "print(f\"BID_equityOnTotalAsset mean: {BID_mean_equityOnTotalAsset}\")\n",
    "print(f\"BID_equityOnTotalAsset standard deviation: {st.stdev(df_BID['equityOnTotalAsset'])}\")\n",
    "print(f\"BID_equityOnTotalAsset median: {st.median(df_BID['equityOnTotalAsset'])}\")\n",
    "\n",
    "\n"
   ]
  },
  {
   "cell_type": "code",
   "execution_count": 16,
   "metadata": {},
   "outputs": [],
   "source": [
    "# Đọc từng file CSV với mã hóa 'ISO-8859-1' hoặc 'cp1252'\n",
    "df_TCB = pd.read_csv('financial_data_TCB_filtered.csv',encoding='ISO-8859-1')"
   ]
  },
  {
   "cell_type": "code",
   "execution_count": 17,
   "metadata": {},
   "outputs": [
    {
     "name": "stdout",
     "output_type": "stream",
     "text": [
      "TCB_roe mean: 0.15563636363636366\n",
      "TCB_roe standard deviation: 0.07422720961301496\n",
      "TCB_roe median: 0.177\n",
      "TCB_roa mean: 0.02218181818181818\n",
      "TCB_roa standard deviation: 0.011505858421373217\n",
      "TCB_roa median: 0.027\n",
      "TCB_interestMargin mean: 0.04261363636363636\n",
      "TCB_interestMargin standard deviation: 0.008477647515648263\n",
      "TCB_interestMargin median: 0.042\n",
      "TCB_badDebtPercentage mean: 0.019113636363636367\n",
      "TCB_badDebtPercentage standard deviation: 0.01299412373288879\n",
      "TCB_badDebtPercentage median: 0.018\n",
      "TCB_equityOnTotalAsset mean: 0.12811363636363635\n",
      "TCB_equityOnTotalAsset standard deviation: 0.038825917925380905\n",
      "TCB_equityOnTotalAsset median: 0.1555\n"
     ]
    }
   ],
   "source": [
    "TCB_mean_roe = np.mean(df_TCB['roe'])\n",
    "print(f\"TCB_roe mean: {TCB_mean_roe}\")\n",
    "print(f\"TCB_roe standard deviation: {st.stdev(df_TCB['roe'])}\")\n",
    "print(f\"TCB_roe median: {st.median(df_TCB['roe'])}\")\n",
    "\n",
    "TCB_mean_roa = np.mean(df_TCB['roa'])\n",
    "print(f\"TCB_roa mean: {TCB_mean_roa}\")\n",
    "print(f\"TCB_roa standard deviation: {st.stdev(df_TCB['roa'])}\")\n",
    "print(f\"TCB_roa median: {st.median(df_TCB['roa'])}\")\n",
    "\n",
    "TCB_mean_interestMargin = np.mean(df_TCB['interestMargin'])\n",
    "print(f\"TCB_interestMargin mean: {TCB_mean_interestMargin}\")\n",
    "print(f\"TCB_interestMargin standard deviation: {st.stdev(df_TCB['interestMargin'])}\")\n",
    "print(f\"TCB_interestMargin median: {st.median(df_TCB['interestMargin'])}\")\n",
    "\n",
    "TCB_mean_badDebtPercentage = np.mean(df_TCB['badDebtPercentage'])\n",
    "print(f\"TCB_badDebtPercentage mean: {TCB_mean_badDebtPercentage}\")\n",
    "print(f\"TCB_badDebtPercentage standard deviation: {st.stdev(df_TCB['badDebtPercentage'])}\")\n",
    "print(f\"TCB_badDebtPercentage median: {st.median(df_TCB['badDebtPercentage'])}\")\n",
    "\n",
    "TCB_mean_equityOnTotalAsset = np.mean(df_TCB['equityOnTotalAsset'])\n",
    "print(f\"TCB_equityOnTotalAsset mean: {TCB_mean_equityOnTotalAsset}\")\n",
    "print(f\"TCB_equityOnTotalAsset standard deviation: {st.stdev(df_TCB['equityOnTotalAsset'])}\")\n",
    "print(f\"TCB_equityOnTotalAsset median: {st.median(df_TCB['equityOnTotalAsset'])}\")\n",
    "\n",
    "\n"
   ]
  },
  {
   "cell_type": "code",
   "execution_count": 11,
   "metadata": {},
   "outputs": [
    {
     "data": {
      "image/png": "[encoded data removed]",
      "text/plain": [
       "<Figure size 1200x800 with 1 Axes>"
      ]
     },
     "metadata": {},
     "output_type": "display_data"
    }
   ],
   "source": [
    "import numpy as np\n",
    "import matplotlib.pyplot as plt\n",
    "\n",
    "# Metrics\n",
    "metrics = ['roe', 'roa', 'BadDebtPercentage', 'EquityOnTotalAsset', 'interestMargin']\n",
    "\n",
    "# Data for 4 banks: MBB, VCB, TCB, BIDV\n",
    "data = {\n",
    "    \"MBB\": {\n",
    "        \"mean\": [df_MBB['roe'].mean(), df_MBB['roa'].mean(), df_MBB['interestMargin'].mean(), df_MBB['badDebtPercentage'].mean(), df_MBB['equityOnTotalAsset'].mean()],\n",
    "        \"std\": [df_MBB['roe'].std(), df_MBB['roa'].std(), df_MBB['interestMargin'].std(), df_MBB['badDebtPercentage'].std(), df_MBB['equityOnTotalAsset'].std()],\n",
    "        \"median\": [df_MBB['roe'].median(), df_MBB['roa'].median(), df_MBB['interestMargin'].median(), df_MBB['badDebtPercentage'].median(), df_MBB['equityOnTotalAsset'].median()]\n",
    "    },\n",
    "    \"VCB\": {\n",
    "        \"mean\": [df_VCB['roe'].mean(), df_VCB['roa'].mean(), df_VCB['interestMargin'].mean(), df_VCB['badDebtPercentage'].mean(), df_VCB['equityOnTotalAsset'].mean()],\n",
    "        \"std\": [df_VCB['roe'].std(), df_VCB['roa'].std(), df_VCB['interestMargin'].std(), df_VCB['badDebtPercentage'].std(), df_VCB['equityOnTotalAsset'].std()],\n",
    "        \"median\": [df_VCB['roe'].median(), df_VCB['roa'].median(), df_VCB['interestMargin'].median(), df_VCB['badDebtPercentage'].median(), df_VCB['equityOnTotalAsset'].median()]\n",
    "    },\n",
    "    \"TCB\": {\n",
    "        \"mean\": [df_TCB['roe'].mean(), df_TCB['roa'].mean(), df_TCB['interestMargin'].mean(), df_TCB['badDebtPercentage'].mean(), df_TCB['equityOnTotalAsset'].mean()],\n",
    "        \"std\": [df_TCB['roe'].std(), df_TCB['roa'].std(), df_TCB['interestMargin'].std(), df_TCB['badDebtPercentage'].std(), df_TCB['equityOnTotalAsset'].std()],\n",
    "        \"median\": [df_TCB['roe'].median(), df_TCB['roa'].median(), df_TCB['interestMargin'].median(), df_TCB['badDebtPercentage'].median(), df_TCB['equityOnTotalAsset'].median()]\n",
    "    },\n",
    "    \"BIDV\": {\n",
    "        \"mean\": [df_BID['roe'].mean(), df_BID['roa'].mean(), df_BID['interestMargin'].mean(), df_BID['badDebtPercentage'].mean(), df_BID['equityOnTotalAsset'].mean()],\n",
    "        \"std\": [df_BID['roe'].std(), df_BID['roa'].std(), df_BID['interestMargin'].std(), df_BID['badDebtPercentage'].std(), df_BID['equityOnTotalAsset'].std()],\n",
    "        \"median\": [df_BID['roe'].median(), df_BID['roa'].median(), df_BID['interestMargin'].median(), df_BID['badDebtPercentage'].median(), df_BID['equityOnTotalAsset'].median()]\n",
    "    }\n",
    "}\n",
    "\n",
    "\n",
    "# Bar width and positions\n",
    "bar_width = 0.2\n",
    "indices = np.arange(len(metrics))\n",
    "positions = {\n",
    "    \"MBB\": indices - 1.5 * bar_width,\n",
    "    \"VCB\": indices - 0.5 * bar_width,\n",
    "    \"TCB\": indices + 0.5 * bar_width,\n",
    "    \"BIDV\": indices + 1.5 * bar_width\n",
    "}\n",
    "\n",
    "# Colors for banks\n",
    "colors = {\n",
    "    \"MBB\": \"blue\",\n",
    "    \"VCB\": \"green\",\n",
    "    \"TCB\": \"orange\",\n",
    "    \"BIDV\": \"red\"\n",
    "}\n",
    "\n",
    "# Create figure\n",
    "plt.figure(figsize=(12, 8))\n",
    "\n",
    "# Plot bars for mean values with error bars\n",
    "for bank, pos in positions.items():\n",
    "    plt.bar(pos, data[bank][\"mean\"], bar_width, yerr=data[bank][\"std\"],\n",
    "            label=f'{bank} Mean', color=colors[bank], alpha=0.7, capsize=4)\n",
    "    plt.bar(pos, data[bank][\"median\"], bar_width, label=f'{bank} Median', \n",
    "            color=colors[bank], alpha=0.4)\n",
    "\n",
    "# Add labels, title, legend\n",
    "plt.xlabel('metrics')\n",
    "plt.ylabel('Values')\n",
    "plt.title('Comparison of Financial Metrics Across Banks')\n",
    "plt.xticks(indices, metrics)\n",
    "plt.legend()\n",
    "\n",
    "# Adjust layout and show plot\n",
    "plt.tight_layout()\n",
    "plt.show()\n"
   ]
  }
 ],
 "metadata": {
  "kernelspec": {
   "display_name": "Python 3",
   "language": "python",
   "name": "python3"
  },
  "language_info": {
   "codemirror_mode": {
    "name": "ipython",
    "version": 3
   },
   "file_extension": ".py",
   "mimetype": "text/x-python",
   "name": "python",
   "nbconvert_exporter": "python",
   "pygments_lexer": "ipython3",
   "version": "3.12.4"
  }
 },
 "nbformat": 4,
 "nbformat_minor": 2
}
